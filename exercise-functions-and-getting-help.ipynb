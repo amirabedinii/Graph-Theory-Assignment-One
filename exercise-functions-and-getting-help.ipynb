{
 "cells": [
  {
   "cell_type": "markdown",
   "id": "b8f07cbb",
   "metadata": {
    "papermill": {
     "duration": 0.008927,
     "end_time": "2023-02-17T13:58:16.848209",
     "exception": false,
     "start_time": "2023-02-17T13:58:16.839282",
     "status": "completed"
    },
    "tags": []
   },
   "source": [
    "**This notebook is an exercise in the [Python](https://www.kaggle.com/learn/python) course.  You can reference the tutorial at [this link](https://www.kaggle.com/colinmorris/functions-and-getting-help).**\n",
    "\n",
    "---\n"
   ]
  },
  {
   "cell_type": "markdown",
   "id": "7f642a80",
   "metadata": {
    "papermill": {
     "duration": 0.004391,
     "end_time": "2023-02-17T13:58:16.857493",
     "exception": false,
     "start_time": "2023-02-17T13:58:16.853102",
     "status": "completed"
    },
    "tags": []
   },
   "source": [
    "Functions are powerful. Try writing some yourself.\n",
    "\n",
    "As before, don't forget to run the setup code below before jumping into question 1."
   ]
  },
  {
   "cell_type": "code",
   "execution_count": 1,
   "id": "50e14977",
   "metadata": {
    "_kg_hide-input": true,
    "_kg_hide-output": true,
    "execution": {
     "iopub.execute_input": "2023-02-17T13:58:16.871247Z",
     "iopub.status.busy": "2023-02-17T13:58:16.870483Z",
     "iopub.status.idle": "2023-02-17T13:58:16.934612Z",
     "shell.execute_reply": "2023-02-17T13:58:16.933328Z"
    },
    "papermill": {
     "duration": 0.075722,
     "end_time": "2023-02-17T13:58:16.937979",
     "exception": false,
     "start_time": "2023-02-17T13:58:16.862257",
     "status": "completed"
    },
    "tags": []
   },
   "outputs": [
    {
     "name": "stdout",
     "output_type": "stream",
     "text": [
      "Setup complete.\n"
     ]
    }
   ],
   "source": [
    "# SETUP. You don't need to worry for now about what this code does or how it works.\n",
    "from learntools.core import binder; binder.bind(globals())\n",
    "from learntools.python.ex2 import *\n",
    "print('Setup complete.')"
   ]
  },
  {
   "cell_type": "markdown",
   "id": "920c2a72",
   "metadata": {
    "papermill": {
     "duration": 0.004623,
     "end_time": "2023-02-17T13:58:16.947970",
     "exception": false,
     "start_time": "2023-02-17T13:58:16.943347",
     "status": "completed"
    },
    "tags": []
   },
   "source": [
    "# 1.\n",
    "\n",
    "Complete the body of the following function according to its docstring.\n",
    "\n",
    "HINT: Python has a built-in function `round`."
   ]
  },
  {
   "cell_type": "code",
   "execution_count": 2,
   "id": "7d372e96",
   "metadata": {
    "execution": {
     "iopub.execute_input": "2023-02-17T13:58:16.960113Z",
     "iopub.status.busy": "2023-02-17T13:58:16.959689Z",
     "iopub.status.idle": "2023-02-17T13:58:16.971040Z",
     "shell.execute_reply": "2023-02-17T13:58:16.969979Z"
    },
    "papermill": {
     "duration": 0.020369,
     "end_time": "2023-02-17T13:58:16.973266",
     "exception": false,
     "start_time": "2023-02-17T13:58:16.952897",
     "status": "completed"
    },
    "tags": []
   },
   "outputs": [
    {
     "data": {
      "application/javascript": [
       "parent.postMessage({\"jupyterEvent\": \"custom.exercise_interaction\", \"data\": {\"outcomeType\": 1, \"valueTowardsCompletion\": 0.16666666666666666, \"interactionType\": 1, \"questionType\": 2, \"questionId\": \"1_RoundFunctionProblem\", \"learnToolsVersion\": \"0.3.4\", \"failureMessage\": \"\", \"exceptionClass\": \"\", \"trace\": \"\"}}, \"*\")"
      ],
      "text/plain": [
       "<IPython.core.display.Javascript object>"
      ]
     },
     "metadata": {},
     "output_type": "display_data"
    },
    {
     "data": {
      "text/markdown": [
       "<span style=\"color:#33cc33\">Correct</span>"
      ],
      "text/plain": [
       "Correct"
      ]
     },
     "metadata": {},
     "output_type": "display_data"
    }
   ],
   "source": [
    "def round_to_two_places(num):\n",
    "    \"\"\"Return the given number rounded to two decimal places. \n",
    "    \n",
    "    >>> round_to_two_places(3.14159)\n",
    "    3.14\n",
    "    \"\"\"\n",
    "    # Replace this body with your own code.\n",
    "    # (\"pass\" is a keyword that does literally nothing. We used it as a placeholder\n",
    "    # because after we begin a code block, Python requires at least one line of code)\n",
    "    return round(num,2)\n",
    "\n",
    "# Check your answer\n",
    "q1.check()"
   ]
  },
  {
   "cell_type": "code",
   "execution_count": 3,
   "id": "7eb38b4b",
   "metadata": {
    "execution": {
     "iopub.execute_input": "2023-02-17T13:58:16.986226Z",
     "iopub.status.busy": "2023-02-17T13:58:16.985402Z",
     "iopub.status.idle": "2023-02-17T13:58:16.990656Z",
     "shell.execute_reply": "2023-02-17T13:58:16.989043Z"
    },
    "papermill": {
     "duration": 0.015052,
     "end_time": "2023-02-17T13:58:16.993584",
     "exception": false,
     "start_time": "2023-02-17T13:58:16.978532",
     "status": "completed"
    },
    "tags": []
   },
   "outputs": [],
   "source": [
    "# Uncomment the following for a hint\n",
    "#q1.hint()\n",
    "# Or uncomment the following to peek at the solution\n",
    "#q1.solution()"
   ]
  },
  {
   "cell_type": "markdown",
   "id": "56e45638",
   "metadata": {
    "papermill": {
     "duration": 0.00481,
     "end_time": "2023-02-17T13:58:17.003561",
     "exception": false,
     "start_time": "2023-02-17T13:58:16.998751",
     "status": "completed"
    },
    "tags": []
   },
   "source": [
    "# 2.\n",
    "The help for `round` says that `ndigits` (the second argument) may be negative.\n",
    "What do you think will happen when it is? Try some examples in the following cell."
   ]
  },
  {
   "cell_type": "code",
   "execution_count": 4,
   "id": "d8eeb84c",
   "metadata": {
    "execution": {
     "iopub.execute_input": "2023-02-17T13:58:17.016729Z",
     "iopub.status.busy": "2023-02-17T13:58:17.016003Z",
     "iopub.status.idle": "2023-02-17T13:58:17.023486Z",
     "shell.execute_reply": "2023-02-17T13:58:17.022150Z"
    },
    "papermill": {
     "duration": 0.01725,
     "end_time": "2023-02-17T13:58:17.025947",
     "exception": false,
     "start_time": "2023-02-17T13:58:17.008697",
     "status": "completed"
    },
    "tags": []
   },
   "outputs": [
    {
     "data": {
      "text/plain": [
       "350.0"
      ]
     },
     "execution_count": 4,
     "metadata": {},
     "output_type": "execute_result"
    }
   ],
   "source": [
    "# Put your test code here\n",
    "round(354.112,-1)"
   ]
  },
  {
   "cell_type": "markdown",
   "id": "f02ea476",
   "metadata": {
    "papermill": {
     "duration": 0.005455,
     "end_time": "2023-02-17T13:58:17.036798",
     "exception": false,
     "start_time": "2023-02-17T13:58:17.031343",
     "status": "completed"
    },
    "tags": []
   },
   "source": [
    "Can you think of a case where this would be useful?  Once you're ready, run the code cell below to see the answer and to receive credit for completing the problem."
   ]
  },
  {
   "cell_type": "code",
   "execution_count": 5,
   "id": "d34cae9c",
   "metadata": {
    "execution": {
     "iopub.execute_input": "2023-02-17T13:58:17.050181Z",
     "iopub.status.busy": "2023-02-17T13:58:17.049466Z",
     "iopub.status.idle": "2023-02-17T13:58:17.058654Z",
     "shell.execute_reply": "2023-02-17T13:58:17.057721Z"
    },
    "papermill": {
     "duration": 0.018303,
     "end_time": "2023-02-17T13:58:17.060936",
     "exception": false,
     "start_time": "2023-02-17T13:58:17.042633",
     "status": "completed"
    },
    "tags": []
   },
   "outputs": [
    {
     "data": {
      "application/javascript": [
       "parent.postMessage({\"jupyterEvent\": \"custom.exercise_interaction\", \"data\": {\"interactionType\": 3, \"questionType\": 4, \"questionId\": \"2_RoundNdigitsProblem\", \"learnToolsVersion\": \"0.3.4\", \"valueTowardsCompletion\": 0.0, \"failureMessage\": \"\", \"exceptionClass\": \"\", \"trace\": \"\", \"outcomeType\": 4}}, \"*\")"
      ],
      "text/plain": [
       "<IPython.core.display.Javascript object>"
      ]
     },
     "metadata": {},
     "output_type": "display_data"
    },
    {
     "data": {
      "text/markdown": [
       "<span style=\"color:#33cc99\">Solution:</span> As you've seen, `ndigits=-1` rounds to the nearest 10, `ndigits=-2` rounds to the nearest 100 and so on. Where might this be useful? Suppose we're dealing with large numbers:\n",
       "\n",
       "> The area of Finland is 338,424 km²  \n",
       "> The area of Greenland is 2,166,086 km²\n",
       "\n",
       "We probably don't care whether it's really 338,424, or 338,425, or 338,177. All those digits of accuracy are just distracting. We can chop them off by calling `round()` with `ndigits=-3`:\n",
       "\n",
       "> The area of Finland is 338,000 km²  \n",
       "> The area of Greenland is 2,166,000 km²\n",
       "\n",
       "(We'll talk about how we would get the commas later when we talk about string formatting :))\n"
      ],
      "text/plain": [
       "Solution: As you've seen, `ndigits=-1` rounds to the nearest 10, `ndigits=-2` rounds to the nearest 100 and so on. Where might this be useful? Suppose we're dealing with large numbers:\n",
       "\n",
       "> The area of Finland is 338,424 km²  \n",
       "> The area of Greenland is 2,166,086 km²\n",
       "\n",
       "We probably don't care whether it's really 338,424, or 338,425, or 338,177. All those digits of accuracy are just distracting. We can chop them off by calling `round()` with `ndigits=-3`:\n",
       "\n",
       "> The area of Finland is 338,000 km²  \n",
       "> The area of Greenland is 2,166,000 km²\n",
       "\n",
       "(We'll talk about how we would get the commas later when we talk about string formatting :))"
      ]
     },
     "metadata": {},
     "output_type": "display_data"
    }
   ],
   "source": [
    "# Check your answer (Run this code cell to receive credit!)\n",
    "q2.solution()"
   ]
  },
  {
   "cell_type": "markdown",
   "id": "9b3e7f14",
   "metadata": {
    "papermill": {
     "duration": 0.00515,
     "end_time": "2023-02-17T13:58:17.071524",
     "exception": false,
     "start_time": "2023-02-17T13:58:17.066374",
     "status": "completed"
    },
    "tags": []
   },
   "source": [
    "# 3.\n",
    "\n",
    "In the previous exercise, the candy-sharing friends Alice, Bob and Carol tried to split candies evenly. For the sake of their friendship, any candies left over would be smashed. For example, if they collectively bring home 91 candies, they'll take 30 each and smash 1.\n",
    "\n",
    "Below is a simple function that will calculate the number of candies to smash for *any* number of total candies.\n",
    "\n",
    "Modify it so that it optionally takes a second argument representing the number of friends the candies are being split between. If no second argument is provided, it should assume 3 friends, as before.\n",
    "\n",
    "Update the docstring to reflect this new behaviour."
   ]
  },
  {
   "cell_type": "code",
   "execution_count": 6,
   "id": "6203099f",
   "metadata": {
    "execution": {
     "iopub.execute_input": "2023-02-17T13:58:17.084634Z",
     "iopub.status.busy": "2023-02-17T13:58:17.083946Z",
     "iopub.status.idle": "2023-02-17T13:58:17.094360Z",
     "shell.execute_reply": "2023-02-17T13:58:17.092964Z"
    },
    "papermill": {
     "duration": 0.019837,
     "end_time": "2023-02-17T13:58:17.096819",
     "exception": false,
     "start_time": "2023-02-17T13:58:17.076982",
     "status": "completed"
    },
    "tags": []
   },
   "outputs": [
    {
     "data": {
      "application/javascript": [
       "parent.postMessage({\"jupyterEvent\": \"custom.exercise_interaction\", \"data\": {\"outcomeType\": 1, \"valueTowardsCompletion\": 0.16666666666666666, \"interactionType\": 1, \"questionType\": 2, \"questionId\": \"3_CandySmashingFunctionProblem\", \"learnToolsVersion\": \"0.3.4\", \"failureMessage\": \"\", \"exceptionClass\": \"\", \"trace\": \"\"}}, \"*\")"
      ],
      "text/plain": [
       "<IPython.core.display.Javascript object>"
      ]
     },
     "metadata": {},
     "output_type": "display_data"
    },
    {
     "data": {
      "text/markdown": [
       "<span style=\"color:#33cc33\">Correct</span>"
      ],
      "text/plain": [
       "Correct"
      ]
     },
     "metadata": {},
     "output_type": "display_data"
    }
   ],
   "source": [
    "def to_smash(total_candies , numberOfFriends=3):\n",
    "    \"\"\"Return the number of leftover candies that must be smashed after distributing\n",
    "    the given number of candies evenly between 3 friends.\n",
    "    \n",
    "    >>> to_smash(91)\n",
    "    1\n",
    "    \"\"\"\n",
    "    return total_candies % numberOfFriends\n",
    "\n",
    "# Check your answer\n",
    "q3.check()"
   ]
  },
  {
   "cell_type": "code",
   "execution_count": 7,
   "id": "17d6b44a",
   "metadata": {
    "execution": {
     "iopub.execute_input": "2023-02-17T13:58:17.110608Z",
     "iopub.status.busy": "2023-02-17T13:58:17.109910Z",
     "iopub.status.idle": "2023-02-17T13:58:17.119379Z",
     "shell.execute_reply": "2023-02-17T13:58:17.118160Z"
    },
    "papermill": {
     "duration": 0.019186,
     "end_time": "2023-02-17T13:58:17.121691",
     "exception": false,
     "start_time": "2023-02-17T13:58:17.102505",
     "status": "completed"
    },
    "tags": []
   },
   "outputs": [
    {
     "data": {
      "application/javascript": [
       "parent.postMessage({\"jupyterEvent\": \"custom.exercise_interaction\", \"data\": {\"interactionType\": 2, \"questionType\": 2, \"questionId\": \"3_CandySmashingFunctionProblem\", \"learnToolsVersion\": \"0.3.4\", \"valueTowardsCompletion\": 0.0, \"failureMessage\": \"\", \"exceptionClass\": \"\", \"trace\": \"\", \"outcomeType\": 4}}, \"*\")"
      ],
      "text/plain": [
       "<IPython.core.display.Javascript object>"
      ]
     },
     "metadata": {},
     "output_type": "display_data"
    },
    {
     "data": {
      "text/markdown": [
       "<span style=\"color:#3366cc\">Hint:</span> Refer to the section of the last tutorial notebook where we talked about default arguments"
      ],
      "text/plain": [
       "Hint: Refer to the section of the last tutorial notebook where we talked about default arguments"
      ]
     },
     "metadata": {},
     "output_type": "display_data"
    }
   ],
   "source": [
    "q3.hint()"
   ]
  },
  {
   "cell_type": "code",
   "execution_count": 8,
   "id": "8aad1559",
   "metadata": {
    "execution": {
     "iopub.execute_input": "2023-02-17T13:58:17.136191Z",
     "iopub.status.busy": "2023-02-17T13:58:17.135494Z",
     "iopub.status.idle": "2023-02-17T13:58:17.140455Z",
     "shell.execute_reply": "2023-02-17T13:58:17.139426Z"
    },
    "papermill": {
     "duration": 0.015393,
     "end_time": "2023-02-17T13:58:17.143138",
     "exception": false,
     "start_time": "2023-02-17T13:58:17.127745",
     "status": "completed"
    },
    "tags": []
   },
   "outputs": [],
   "source": [
    "#q3.solution()"
   ]
  },
  {
   "cell_type": "code",
   "execution_count": 9,
   "id": "37015a1d",
   "metadata": {
    "execution": {
     "iopub.execute_input": "2023-02-17T13:58:17.157738Z",
     "iopub.status.busy": "2023-02-17T13:58:17.157044Z",
     "iopub.status.idle": "2023-02-17T13:58:17.162170Z",
     "shell.execute_reply": "2023-02-17T13:58:17.161141Z"
    },
    "papermill": {
     "duration": 0.015351,
     "end_time": "2023-02-17T13:58:17.164708",
     "exception": false,
     "start_time": "2023-02-17T13:58:17.149357",
     "status": "completed"
    },
    "tags": []
   },
   "outputs": [],
   "source": [
    "# ruound_to_two_places(9.9999)"
   ]
  },
  {
   "cell_type": "markdown",
   "id": "85cafae2",
   "metadata": {
    "papermill": {
     "duration": 0.006554,
     "end_time": "2023-02-17T13:58:17.178268",
     "exception": false,
     "start_time": "2023-02-17T13:58:17.171714",
     "status": "completed"
    },
    "tags": []
   },
   "source": [
    "# 4. (Optional)\n",
    "\n",
    "It may not be fun, but reading and understanding error messages will be an important part of your Python career.\n",
    "\n",
    "Each code cell below contains some commented buggy code. For each cell...\n",
    "\n",
    "1. Read the code and predict what you think will happen when it's run.\n",
    "2. Then uncomment the code and run it to see what happens. (**Tip**: In the kernel editor, you can highlight several lines and press `ctrl`+`/` to toggle commenting.)\n",
    "3. Fix the code (so that it accomplishes its intended purpose without throwing an exception)\n",
    "\n",
    "<!-- TODO: should this be autochecked? Delta is probably pretty small. -->"
   ]
  },
  {
   "cell_type": "code",
   "execution_count": 10,
   "id": "98d936af",
   "metadata": {
    "execution": {
     "iopub.execute_input": "2023-02-17T13:58:17.192813Z",
     "iopub.status.busy": "2023-02-17T13:58:17.192125Z",
     "iopub.status.idle": "2023-02-17T13:58:17.196930Z",
     "shell.execute_reply": "2023-02-17T13:58:17.196031Z"
    },
    "papermill": {
     "duration": 0.015512,
     "end_time": "2023-02-17T13:58:17.199924",
     "exception": false,
     "start_time": "2023-02-17T13:58:17.184412",
     "status": "completed"
    },
    "tags": []
   },
   "outputs": [],
   "source": [
    "# x = -10\n",
    "# y = 5\n",
    "# # Which of the two variables above has the smallest absolute value?\n",
    "# smallest_abs = min(abs(x, y))"
   ]
  },
  {
   "cell_type": "code",
   "execution_count": 11,
   "id": "dab3cc9f",
   "metadata": {
    "execution": {
     "iopub.execute_input": "2023-02-17T13:58:17.215231Z",
     "iopub.status.busy": "2023-02-17T13:58:17.214776Z",
     "iopub.status.idle": "2023-02-17T13:58:17.219689Z",
     "shell.execute_reply": "2023-02-17T13:58:17.218358Z"
    },
    "papermill": {
     "duration": 0.015587,
     "end_time": "2023-02-17T13:58:17.222472",
     "exception": false,
     "start_time": "2023-02-17T13:58:17.206885",
     "status": "completed"
    },
    "tags": []
   },
   "outputs": [],
   "source": [
    "# def f(x):\n",
    "#     y = abs(x)\n",
    "# return y\n",
    "\n",
    "# print(f(5))"
   ]
  },
  {
   "cell_type": "markdown",
   "id": "38b062ca",
   "metadata": {
    "papermill": {
     "duration": 0.006549,
     "end_time": "2023-02-17T13:58:17.235521",
     "exception": false,
     "start_time": "2023-02-17T13:58:17.228972",
     "status": "completed"
    },
    "tags": []
   },
   "source": [
    "# Keep Going\n",
    "\n",
    "Nice job with the code. Next up, you'll learn about *conditionals*, which you'll need to **[write interesting programs](https://www.kaggle.com/colinmorris/booleans-and-conditionals)**. "
   ]
  },
  {
   "cell_type": "markdown",
   "id": "e142fcac",
   "metadata": {
    "papermill": {
     "duration": 0.005953,
     "end_time": "2023-02-17T13:58:17.247800",
     "exception": false,
     "start_time": "2023-02-17T13:58:17.241847",
     "status": "completed"
    },
    "tags": []
   },
   "source": [
    "---\n",
    "\n",
    "\n",
    "\n",
    "\n",
    "*Have questions or comments? Visit the [course discussion forum](https://www.kaggle.com/learn/python/discussion) to chat with other learners.*"
   ]
  }
 ],
 "metadata": {
  "kernelspec": {
   "display_name": "Python 3",
   "language": "python",
   "name": "python3"
  },
  "language_info": {
   "codemirror_mode": {
    "name": "ipython",
    "version": 3
   },
   "file_extension": ".py",
   "mimetype": "text/x-python",
   "name": "python",
   "nbconvert_exporter": "python",
   "pygments_lexer": "ipython3",
   "version": "3.7.12"
  },
  "papermill": {
   "default_parameters": {},
   "duration": 11.028073,
   "end_time": "2023-02-17T13:58:17.979298",
   "environment_variables": {},
   "exception": null,
   "input_path": "__notebook__.ipynb",
   "output_path": "__notebook__.ipynb",
   "parameters": {},
   "start_time": "2023-02-17T13:58:06.951225",
   "version": "2.3.4"
  }
 },
 "nbformat": 4,
 "nbformat_minor": 5
}
