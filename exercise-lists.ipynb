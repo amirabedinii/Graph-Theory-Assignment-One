{
 "cells": [
  {
   "cell_type": "markdown",
   "id": "d5fec205",
   "metadata": {
    "papermill": {
     "duration": 0.008916,
     "end_time": "2023-02-18T07:17:28.730558",
     "exception": false,
     "start_time": "2023-02-18T07:17:28.721642",
     "status": "completed"
    },
    "tags": []
   },
   "source": [
    "**This notebook is an exercise in the [Python](https://www.kaggle.com/learn/python) course.  You can reference the tutorial at [this link](https://www.kaggle.com/colinmorris/lists).**\n",
    "\n",
    "---\n"
   ]
  },
  {
   "cell_type": "markdown",
   "id": "b6b09492",
   "metadata": {
    "papermill": {
     "duration": 0.00471,
     "end_time": "2023-02-18T07:17:28.740437",
     "exception": false,
     "start_time": "2023-02-18T07:17:28.735727",
     "status": "completed"
    },
    "tags": []
   },
   "source": [
    "Things get more interesting with lists. You'll apply your new knowledge to solve the questions below. Remember to run the following cell first."
   ]
  },
  {
   "cell_type": "code",
   "execution_count": 1,
   "id": "fc8078ce",
   "metadata": {
    "execution": {
     "iopub.execute_input": "2023-02-18T07:17:28.752893Z",
     "iopub.status.busy": "2023-02-18T07:17:28.752090Z",
     "iopub.status.idle": "2023-02-18T07:17:28.812847Z",
     "shell.execute_reply": "2023-02-18T07:17:28.811270Z"
    },
    "papermill": {
     "duration": 0.070624,
     "end_time": "2023-02-18T07:17:28.816096",
     "exception": false,
     "start_time": "2023-02-18T07:17:28.745472",
     "status": "completed"
    },
    "tags": []
   },
   "outputs": [
    {
     "name": "stdout",
     "output_type": "stream",
     "text": [
      "Setup complete.\n"
     ]
    }
   ],
   "source": [
    "from learntools.core import binder; binder.bind(globals())\n",
    "from learntools.python.ex4 import *\n",
    "print('Setup complete.')"
   ]
  },
  {
   "cell_type": "markdown",
   "id": "fb3392f5",
   "metadata": {
    "papermill": {
     "duration": 0.005126,
     "end_time": "2023-02-18T07:17:28.827039",
     "exception": false,
     "start_time": "2023-02-18T07:17:28.821913",
     "status": "completed"
    },
    "tags": []
   },
   "source": [
    "# 1.\n",
    "\n",
    "Complete the function below according to its docstring."
   ]
  },
  {
   "cell_type": "code",
   "execution_count": 2,
   "id": "cf59f4e4",
   "metadata": {
    "execution": {
     "iopub.execute_input": "2023-02-18T07:17:28.839128Z",
     "iopub.status.busy": "2023-02-18T07:17:28.838671Z",
     "iopub.status.idle": "2023-02-18T07:17:28.853178Z",
     "shell.execute_reply": "2023-02-18T07:17:28.852028Z"
    },
    "papermill": {
     "duration": 0.023684,
     "end_time": "2023-02-18T07:17:28.855904",
     "exception": false,
     "start_time": "2023-02-18T07:17:28.832220",
     "status": "completed"
    },
    "tags": []
   },
   "outputs": [
    {
     "data": {
      "application/javascript": [
       "parent.postMessage({\"jupyterEvent\": \"custom.exercise_interaction\", \"data\": {\"outcomeType\": 1, \"valueTowardsCompletion\": 0.2, \"interactionType\": 1, \"questionType\": 2, \"questionId\": \"1_SelectSecondItem\", \"learnToolsVersion\": \"0.3.4\", \"failureMessage\": \"\", \"exceptionClass\": \"\", \"trace\": \"\"}}, \"*\")"
      ],
      "text/plain": [
       "<IPython.core.display.Javascript object>"
      ]
     },
     "metadata": {},
     "output_type": "display_data"
    },
    {
     "data": {
      "text/markdown": [
       "<span style=\"color:#33cc33\">Correct</span>"
      ],
      "text/plain": [
       "Correct"
      ]
     },
     "metadata": {},
     "output_type": "display_data"
    }
   ],
   "source": [
    "def select_second(L):\n",
    "    \"\"\"Return the second element of the given list. If the list has no second\n",
    "    element, return None.\n",
    "    \"\"\"\n",
    "    if len(L) > 1:\n",
    "        return L[1]\n",
    "\n",
    "# Check your answer\n",
    "q1.check()"
   ]
  },
  {
   "cell_type": "code",
   "execution_count": 3,
   "id": "3b395287",
   "metadata": {
    "collapsed": true,
    "execution": {
     "iopub.execute_input": "2023-02-18T07:17:28.868912Z",
     "iopub.status.busy": "2023-02-18T07:17:28.868122Z",
     "iopub.status.idle": "2023-02-18T07:17:28.873193Z",
     "shell.execute_reply": "2023-02-18T07:17:28.871726Z"
    },
    "jupyter": {
     "outputs_hidden": true
    },
    "papermill": {
     "duration": 0.014458,
     "end_time": "2023-02-18T07:17:28.875805",
     "exception": false,
     "start_time": "2023-02-18T07:17:28.861347",
     "status": "completed"
    },
    "tags": []
   },
   "outputs": [],
   "source": [
    "#q1.hint()\n",
    "#q1.solution()"
   ]
  },
  {
   "cell_type": "markdown",
   "id": "f0fc8928",
   "metadata": {
    "papermill": {
     "duration": 0.005083,
     "end_time": "2023-02-18T07:17:28.886369",
     "exception": false,
     "start_time": "2023-02-18T07:17:28.881286",
     "status": "completed"
    },
    "tags": []
   },
   "source": [
    "# 2.\n",
    "\n",
    "You are analyzing sports teams.  Members of each team are stored in a list. The Coach is the first name in the list, the captain is the second name in the list, and other players are listed after that. \n",
    "These lists are stored in another list, which starts with the best team and proceeds through the list to the worst team last.  Complete the function below to select the **captain** of the worst team."
   ]
  },
  {
   "cell_type": "code",
   "execution_count": 4,
   "id": "e5918e3d",
   "metadata": {
    "execution": {
     "iopub.execute_input": "2023-02-18T07:17:28.898926Z",
     "iopub.status.busy": "2023-02-18T07:17:28.898499Z",
     "iopub.status.idle": "2023-02-18T07:17:28.908953Z",
     "shell.execute_reply": "2023-02-18T07:17:28.907813Z"
    },
    "papermill": {
     "duration": 0.019686,
     "end_time": "2023-02-18T07:17:28.911496",
     "exception": false,
     "start_time": "2023-02-18T07:17:28.891810",
     "status": "completed"
    },
    "tags": []
   },
   "outputs": [
    {
     "data": {
      "application/javascript": [
       "parent.postMessage({\"jupyterEvent\": \"custom.exercise_interaction\", \"data\": {\"outcomeType\": 1, \"valueTowardsCompletion\": 0.2, \"interactionType\": 1, \"questionType\": 2, \"questionId\": \"2_LosingTeamCaptain\", \"learnToolsVersion\": \"0.3.4\", \"failureMessage\": \"\", \"exceptionClass\": \"\", \"trace\": \"\"}}, \"*\")"
      ],
      "text/plain": [
       "<IPython.core.display.Javascript object>"
      ]
     },
     "metadata": {},
     "output_type": "display_data"
    },
    {
     "data": {
      "text/markdown": [
       "<span style=\"color:#33cc33\">Correct</span>"
      ],
      "text/plain": [
       "Correct"
      ]
     },
     "metadata": {},
     "output_type": "display_data"
    }
   ],
   "source": [
    "def losing_team_captain(teams):\n",
    "    \"\"\"Given a list of teams, where each team is a list of names, return the 2nd player (captain)\n",
    "    from the last listed team\n",
    "    \"\"\"\n",
    "    return teams[-1][1]\n",
    "\n",
    "# Check your answer\n",
    "q2.check()"
   ]
  },
  {
   "cell_type": "code",
   "execution_count": 5,
   "id": "41e6453b",
   "metadata": {
    "collapsed": true,
    "execution": {
     "iopub.execute_input": "2023-02-18T07:17:28.925420Z",
     "iopub.status.busy": "2023-02-18T07:17:28.924991Z",
     "iopub.status.idle": "2023-02-18T07:17:28.929589Z",
     "shell.execute_reply": "2023-02-18T07:17:28.928318Z"
    },
    "jupyter": {
     "outputs_hidden": true
    },
    "papermill": {
     "duration": 0.014734,
     "end_time": "2023-02-18T07:17:28.931910",
     "exception": false,
     "start_time": "2023-02-18T07:17:28.917176",
     "status": "completed"
    },
    "tags": []
   },
   "outputs": [],
   "source": [
    "#q2.hint()\n",
    "#q2.solution()"
   ]
  },
  {
   "cell_type": "markdown",
   "id": "c39c98bd",
   "metadata": {
    "papermill": {
     "duration": 0.005257,
     "end_time": "2023-02-18T07:17:28.942741",
     "exception": false,
     "start_time": "2023-02-18T07:17:28.937484",
     "status": "completed"
    },
    "tags": []
   },
   "source": [
    "# 3.\n",
    "\n",
    "The next iteration of Mario Kart will feature an extra-infuriating new item, the *Purple Shell*. When used, it warps the last place racer into first place and the first place racer into last place. Complete the function below to implement the Purple Shell's effect."
   ]
  },
  {
   "cell_type": "code",
   "execution_count": 6,
   "id": "32187ed8",
   "metadata": {
    "execution": {
     "iopub.execute_input": "2023-02-18T07:17:28.955486Z",
     "iopub.status.busy": "2023-02-18T07:17:28.955072Z",
     "iopub.status.idle": "2023-02-18T07:17:28.965395Z",
     "shell.execute_reply": "2023-02-18T07:17:28.964121Z"
    },
    "papermill": {
     "duration": 0.01943,
     "end_time": "2023-02-18T07:17:28.967762",
     "exception": false,
     "start_time": "2023-02-18T07:17:28.948332",
     "status": "completed"
    },
    "tags": []
   },
   "outputs": [
    {
     "data": {
      "application/javascript": [
       "parent.postMessage({\"jupyterEvent\": \"custom.exercise_interaction\", \"data\": {\"outcomeType\": 1, \"valueTowardsCompletion\": 0.2, \"interactionType\": 1, \"questionType\": 2, \"questionId\": \"3_PurpleShell\", \"learnToolsVersion\": \"0.3.4\", \"failureMessage\": \"\", \"exceptionClass\": \"\", \"trace\": \"\"}}, \"*\")"
      ],
      "text/plain": [
       "<IPython.core.display.Javascript object>"
      ]
     },
     "metadata": {},
     "output_type": "display_data"
    },
    {
     "data": {
      "text/markdown": [
       "<span style=\"color:#33cc33\">Correct</span>"
      ],
      "text/plain": [
       "Correct"
      ]
     },
     "metadata": {},
     "output_type": "display_data"
    }
   ],
   "source": [
    "def purple_shell(racers):\n",
    "    \"\"\"Given a list of racers, set the first place racer (at the front of the list) to last\n",
    "    place and vice versa.\n",
    "    \n",
    "    >>> r = [\"Mario\", \"Bowser\", \"Luigi\"]\n",
    "    >>> purple_shell(r)\n",
    "    >>> r\n",
    "    [\"Luigi\", \"Bowser\", \"Mario\"]\n",
    "    \"\"\"\n",
    "    first = racers[0]\n",
    "    last = racers[-1]\n",
    "    racers[0]=last\n",
    "    racers[-1]=first\n",
    "   \n",
    "\n",
    "# Check your answer\n",
    "q3.check()"
   ]
  },
  {
   "cell_type": "code",
   "execution_count": 7,
   "id": "64534ab7",
   "metadata": {
    "collapsed": true,
    "execution": {
     "iopub.execute_input": "2023-02-18T07:17:28.981783Z",
     "iopub.status.busy": "2023-02-18T07:17:28.981359Z",
     "iopub.status.idle": "2023-02-18T07:17:28.986143Z",
     "shell.execute_reply": "2023-02-18T07:17:28.984920Z"
    },
    "jupyter": {
     "outputs_hidden": true
    },
    "papermill": {
     "duration": 0.014808,
     "end_time": "2023-02-18T07:17:28.988484",
     "exception": false,
     "start_time": "2023-02-18T07:17:28.973676",
     "status": "completed"
    },
    "tags": []
   },
   "outputs": [],
   "source": [
    "#q3.hint()\n",
    "#q3.solution()"
   ]
  },
  {
   "cell_type": "markdown",
   "id": "274a3a2b",
   "metadata": {
    "papermill": {
     "duration": 0.005616,
     "end_time": "2023-02-18T07:17:29.000029",
     "exception": false,
     "start_time": "2023-02-18T07:17:28.994413",
     "status": "completed"
    },
    "tags": []
   },
   "source": [
    "# 4.\n",
    "\n",
    "What are the lengths of the following lists? Fill in the variable `lengths` with your predictions. (Try to make a prediction for each list *without* just calling `len()` on it.)"
   ]
  },
  {
   "cell_type": "code",
   "execution_count": 8,
   "id": "e9f99a81",
   "metadata": {
    "execution": {
     "iopub.execute_input": "2023-02-18T07:17:29.014396Z",
     "iopub.status.busy": "2023-02-18T07:17:29.013927Z",
     "iopub.status.idle": "2023-02-18T07:17:29.024575Z",
     "shell.execute_reply": "2023-02-18T07:17:29.023125Z"
    },
    "papermill": {
     "duration": 0.020731,
     "end_time": "2023-02-18T07:17:29.027288",
     "exception": false,
     "start_time": "2023-02-18T07:17:29.006557",
     "status": "completed"
    },
    "tags": []
   },
   "outputs": [
    {
     "data": {
      "application/javascript": [
       "parent.postMessage({\"jupyterEvent\": \"custom.exercise_interaction\", \"data\": {\"outcomeType\": 1, \"valueTowardsCompletion\": 0.2, \"interactionType\": 1, \"questionType\": 1, \"questionId\": \"4_UnderstandLen\", \"learnToolsVersion\": \"0.3.4\", \"failureMessage\": \"\", \"exceptionClass\": \"\", \"trace\": \"\"}}, \"*\")"
      ],
      "text/plain": [
       "<IPython.core.display.Javascript object>"
      ]
     },
     "metadata": {},
     "output_type": "display_data"
    },
    {
     "data": {
      "text/markdown": [
       "<span style=\"color:#33cc33\">Correct:</span> \n",
       "\n",
       "\n",
       "- a: There are three items in this list. Nothing tricky yet.\n",
       "- b: The list `[2, 3]` counts as a single item. It has one item before it. So we have 2 items in the list\n",
       "- c: The empty list has 0 items\n",
       "- d: The expression is the same as the list `[2, 3]`, which has length 2."
      ],
      "text/plain": [
       "Correct: \n",
       "\n",
       "\n",
       "- a: There are three items in this list. Nothing tricky yet.\n",
       "- b: The list `[2, 3]` counts as a single item. It has one item before it. So we have 2 items in the list\n",
       "- c: The empty list has 0 items\n",
       "- d: The expression is the same as the list `[2, 3]`, which has length 2."
      ]
     },
     "metadata": {},
     "output_type": "display_data"
    }
   ],
   "source": [
    "a = [1, 2, 3]\n",
    "b = [1, [2, 3]]\n",
    "c = []\n",
    "d = [1, 2, 3][1:]\n",
    "\n",
    "# Put your predictions in the list below. Lengths should contain 4 numbers, the\n",
    "# first being the length of a, the second being the length of b and so on.\n",
    "lengths = [3,2,0,2]\n",
    "\n",
    "# Check your answer\n",
    "q4.check()"
   ]
  },
  {
   "cell_type": "code",
   "execution_count": 9,
   "id": "d6359164",
   "metadata": {
    "collapsed": true,
    "execution": {
     "iopub.execute_input": "2023-02-18T07:17:29.042157Z",
     "iopub.status.busy": "2023-02-18T07:17:29.041715Z",
     "iopub.status.idle": "2023-02-18T07:17:29.045413Z",
     "shell.execute_reply": "2023-02-18T07:17:29.044482Z"
    },
    "jupyter": {
     "outputs_hidden": true
    },
    "papermill": {
     "duration": 0.014127,
     "end_time": "2023-02-18T07:17:29.047819",
     "exception": false,
     "start_time": "2023-02-18T07:17:29.033692",
     "status": "completed"
    },
    "tags": []
   },
   "outputs": [],
   "source": [
    "# line below provides some explanation\n",
    "#q4.solution()"
   ]
  },
  {
   "cell_type": "markdown",
   "id": "95b18baa",
   "metadata": {
    "papermill": {
     "duration": 0.006072,
     "end_time": "2023-02-18T07:17:29.060606",
     "exception": false,
     "start_time": "2023-02-18T07:17:29.054534",
     "status": "completed"
    },
    "tags": []
   },
   "source": [
    "# 5. <span title=\"A bit spicy\" style=\"color: darkgreen \">🌶️</span>\n",
    "\n",
    "We're using lists to record people who attended our party and what order they arrived in. For example, the following list represents a party with 7 guests, in which Adela showed up first and Ford was the last to arrive:\n",
    "\n",
    "    party_attendees = ['Adela', 'Fleda', 'Owen', 'May', 'Mona', 'Gilbert', 'Ford']\n",
    "\n",
    "A guest is considered 'fashionably late' if they arrived after at least half of the party's guests. However, they must not be the very last guest (that's taking it too far). In the above example, Mona and Gilbert are the only guests who were fashionably late.\n",
    "\n",
    "Complete the function below which takes a list of party attendees as well as a person, and tells us whether that person is fashionably late."
   ]
  },
  {
   "cell_type": "code",
   "execution_count": 10,
   "id": "1ab14161",
   "metadata": {
    "execution": {
     "iopub.execute_input": "2023-02-18T07:17:29.076201Z",
     "iopub.status.busy": "2023-02-18T07:17:29.075799Z",
     "iopub.status.idle": "2023-02-18T07:17:29.089376Z",
     "shell.execute_reply": "2023-02-18T07:17:29.087562Z"
    },
    "papermill": {
     "duration": 0.02436,
     "end_time": "2023-02-18T07:17:29.092156",
     "exception": false,
     "start_time": "2023-02-18T07:17:29.067796",
     "status": "completed"
    },
    "tags": []
   },
   "outputs": [
    {
     "data": {
      "application/javascript": [
       "parent.postMessage({\"jupyterEvent\": \"custom.exercise_interaction\", \"data\": {\"outcomeType\": 1, \"valueTowardsCompletion\": 0.2, \"interactionType\": 1, \"questionType\": 2, \"questionId\": \"5_FashionablyLate\", \"learnToolsVersion\": \"0.3.4\", \"failureMessage\": \"\", \"exceptionClass\": \"\", \"trace\": \"\"}}, \"*\")"
      ],
      "text/plain": [
       "<IPython.core.display.Javascript object>"
      ]
     },
     "metadata": {},
     "output_type": "display_data"
    },
    {
     "data": {
      "text/markdown": [
       "<span style=\"color:#33cc33\">Correct</span>"
      ],
      "text/plain": [
       "Correct"
      ]
     },
     "metadata": {},
     "output_type": "display_data"
    }
   ],
   "source": [
    "def fashionably_late(arrivals, name):\n",
    "    \"\"\"Given an ordered list of arrivals to the party and a name, return whether the guest with that\n",
    "    name was fashionably late.\n",
    "    \"\"\"\n",
    "    length = len(arrivals)\n",
    "    if length == 0:\n",
    "        return false\n",
    "    elif length % 2 == 0:\n",
    "        return (arrivals.index(name)+1 >  length/2 ) and (arrivals[-1]!= name)\n",
    "    elif length % 2 ==1:\n",
    "         return (arrivals.index(name) >  length/2 ) and (arrivals[-1]!= name)\n",
    "# Check your answer\n",
    "q5.check()"
   ]
  },
  {
   "cell_type": "code",
   "execution_count": 11,
   "id": "f16ca4f0",
   "metadata": {
    "collapsed": true,
    "execution": {
     "iopub.execute_input": "2023-02-18T07:17:29.109426Z",
     "iopub.status.busy": "2023-02-18T07:17:29.108142Z",
     "iopub.status.idle": "2023-02-18T07:17:29.113090Z",
     "shell.execute_reply": "2023-02-18T07:17:29.112131Z"
    },
    "jupyter": {
     "outputs_hidden": true
    },
    "papermill": {
     "duration": 0.016838,
     "end_time": "2023-02-18T07:17:29.115615",
     "exception": false,
     "start_time": "2023-02-18T07:17:29.098777",
     "status": "completed"
    },
    "tags": []
   },
   "outputs": [],
   "source": [
    "#q5.hint()\n",
    "#q5.solution()"
   ]
  },
  {
   "cell_type": "markdown",
   "id": "f85f3d16",
   "metadata": {
    "papermill": {
     "duration": 0.006289,
     "end_time": "2023-02-18T07:17:29.128599",
     "exception": false,
     "start_time": "2023-02-18T07:17:29.122310",
     "status": "completed"
    },
    "tags": []
   },
   "source": [
    "# Keep Going\n",
    "\n",
    "That's it for lists and tuples! Now you have the baseline knowledge to **[learn about loops](https://www.kaggle.com/colinmorris/loops-and-list-comprehensions)**, which is where lists and tuples get really interesting. "
   ]
  },
  {
   "cell_type": "markdown",
   "id": "439fb98c",
   "metadata": {
    "papermill": {
     "duration": 0.00617,
     "end_time": "2023-02-18T07:17:29.141438",
     "exception": false,
     "start_time": "2023-02-18T07:17:29.135268",
     "status": "completed"
    },
    "tags": []
   },
   "source": [
    "---\n",
    "\n",
    "\n",
    "\n",
    "\n",
    "*Have questions or comments? Visit the [course discussion forum](https://www.kaggle.com/learn/python/discussion) to chat with other learners.*"
   ]
  }
 ],
 "metadata": {
  "kernelspec": {
   "display_name": "Python 3",
   "language": "python",
   "name": "python3"
  },
  "language_info": {
   "codemirror_mode": {
    "name": "ipython",
    "version": 3
   },
   "file_extension": ".py",
   "mimetype": "text/x-python",
   "name": "python",
   "nbconvert_exporter": "python",
   "pygments_lexer": "ipython3",
   "version": "3.7.12"
  },
  "papermill": {
   "default_parameters": {},
   "duration": 12.21046,
   "end_time": "2023-02-18T07:17:31.925082",
   "environment_variables": {},
   "exception": null,
   "input_path": "__notebook__.ipynb",
   "output_path": "__notebook__.ipynb",
   "parameters": {},
   "start_time": "2023-02-18T07:17:19.714622",
   "version": "2.3.4"
  }
 },
 "nbformat": 4,
 "nbformat_minor": 5
}
